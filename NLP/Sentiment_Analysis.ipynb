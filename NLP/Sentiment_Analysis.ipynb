{
 "cells": [
  {
   "cell_type": "code",
   "execution_count": 20,
   "metadata": {
    "collapsed": true
   },
   "outputs": [],
   "source": [
    "import nltk.classify.util\n",
    "from nltk.corpus import movie_reviews\n",
    "from nltk.classify import NaiveBayesClassifier"
   ]
  },
  {
   "cell_type": "code",
   "execution_count": 21,
   "metadata": {
    "collapsed": true
   },
   "outputs": [],
   "source": [
    "def extract_features(word_list):\n",
    "    return dict([(word,True) for word in word_list])"
   ]
  },
  {
   "cell_type": "code",
   "execution_count": 22,
   "metadata": {},
   "outputs": [],
   "source": [
    "#Load positive fields and negative reviews\n",
    "positive_fileids = movie_reviews.fileids('pos')\n",
    "negative_fileids = movie_reviews.fileids('neg')"
   ]
  },
  {
   "cell_type": "code",
   "execution_count": 23,
   "metadata": {},
   "outputs": [],
   "source": [
    "features_positive = [(extract_features(movie_reviews.words(fileids=[f])),'Positive') for f in positive_fileids]\n",
    "features_negative = [(extract_features(movie_reviews.words(fileids=[f])),'Negative') for f in negative_fileids]"
   ]
  },
  {
   "cell_type": "code",
   "execution_count": 24,
   "metadata": {
    "collapsed": true
   },
   "outputs": [],
   "source": [
    "# Split the data into train and test\n",
    "threshold_factor = 0.8\n",
    "threshold_positive = int(threshold_factor * len(features_positive))\n",
    "threshold_negative = int(threshold_factor * len(features_negative))"
   ]
  },
  {
   "cell_type": "code",
   "execution_count": 25,
   "metadata": {},
   "outputs": [
    {
     "name": "stdout",
     "output_type": "stream",
     "text": [
      "Number of training datapoints : 1600\n",
      "Number of test datapoints : 400\n"
     ]
    }
   ],
   "source": [
    "features_train = features_positive[:threshold_positive] + features_negative[:threshold_negative]\n",
    "features_test = features_positive[threshold_positive:] + features_negative[threshold_negative:]\n",
    "print(\"Number of training datapoints :\" ,len(features_train))\n",
    "print(\"Number of test datapoints :\" ,len(features_test))"
   ]
  },
  {
   "cell_type": "code",
   "execution_count": 26,
   "metadata": {},
   "outputs": [
    {
     "name": "stdout",
     "output_type": "stream",
     "text": [
      "Accuracy : 0.735\n"
     ]
    }
   ],
   "source": [
    "# Training a Naive Bayes Classifier\n",
    "classifier = NaiveBayesClassifier.train(features_train)\n",
    "print(\"Accuracy :\",nltk.classify.accuracy(classifier,features_test))"
   ]
  },
  {
   "cell_type": "code",
   "execution_count": 28,
   "metadata": {},
   "outputs": [
    {
     "name": "stdout",
     "output_type": "stream",
     "text": [
      "\n",
      "Predictions\n",
      "\n",
      "Review : The movie was worth the buck\n",
      "Predicted Sentiment : Positive\n",
      "Probability : 0.54\n",
      "\n",
      "Review : I really enjoyed watching it\n",
      "Predicted Sentiment : Positive\n",
      "Probability : 0.63\n",
      "\n",
      "Review : Successfully wasted 3 hours of my life\n",
      "Predicted Sentiment : Negative\n",
      "Probability : 0.85\n",
      "\n",
      "Review : The movie was very boring\n",
      "Predicted Sentiment : Negative\n",
      "Probability : 0.76\n",
      "\n",
      "Review : I slept in the movie hall while watching it\n",
      "Predicted Sentiment : Positive\n",
      "Probability : 0.68\n"
     ]
    }
   ],
   "source": [
    "input_reviews=[\"The movie was worth the buck\",\n",
    "              \"I really enjoyed watching it\",\n",
    "              \"Successfully wasted 3 hours of my life\",\n",
    "              \"The movie was very boring\",\n",
    "              \"I slept in the movie hall while watching it\"]\n",
    "\n",
    "print(\"\\nPredictions\")\n",
    "for review in input_reviews:\n",
    "    print(\"\\nReview :\",review)\n",
    "    \n",
    "    problist = classifier.prob_classify(extract_features(review.split()))\n",
    "    pred_sentiment = problist.max()\n",
    "    \n",
    "    print(\"Predicted Sentiment :\",pred_sentiment)\n",
    "    print(\"Probability :\",round(problist.prob(pred_sentiment), 2))"
   ]
  },
  {
   "cell_type": "code",
   "execution_count": null,
   "metadata": {
    "collapsed": true
   },
   "outputs": [],
   "source": []
  }
 ],
 "metadata": {
  "kernelspec": {
   "display_name": "Python 3",
   "language": "python",
   "name": "python3"
  },
  "language_info": {
   "codemirror_mode": {
    "name": "ipython",
    "version": 3
   },
   "file_extension": ".py",
   "mimetype": "text/x-python",
   "name": "python",
   "nbconvert_exporter": "python",
   "pygments_lexer": "ipython3",
   "version": "3.6.3"
  }
 },
 "nbformat": 4,
 "nbformat_minor": 2
}
