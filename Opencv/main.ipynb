{
 "cells": [
  {
   "cell_type": "code",
   "execution_count": 1,
   "metadata": {
    "collapsed": true
   },
   "outputs": [],
   "source": [
    "import numpy as np\n",
    "from matplotlib import pyplot as plt\n",
    "%matplotlib inline"
   ]
  },
  {
   "cell_type": "code",
   "execution_count": 2,
   "metadata": {
    "collapsed": true
   },
   "outputs": [],
   "source": [
    "f=np.load('./facedata.npy')       #load facedata \n",
    "f.shape\n",
    "\n",
    "f=f.reshape((f.shape[0],f.shape[1]*f.shape[2]))"
   ]
  },
  {
   "cell_type": "code",
   "execution_count": 3,
   "metadata": {},
   "outputs": [
    {
     "name": "stdout",
     "output_type": "stream",
     "text": [
      "(30,)\n",
      "['Angad' 'Angad' 'Angad' 'Angad' 'Angad' 'Angad' 'Angad' 'Angad' 'Angad'\n",
      " 'Angad' 'Angad' 'Angad' 'Angad' 'Kartikay' 'Kartikay' 'Kartikay'\n",
      " 'Kartikay' 'Kartikay' 'Kartikay' 'Kartikay' 'Kartikay' 'Kartikay'\n",
      " 'Kartikay' 'Negi' 'Negi' 'Negi' 'Negi' 'Negi' 'Negi' 'Negi']\n"
     ]
    }
   ],
   "source": [
    "l=np.load('./facelabels.npy')      #load facelabels\n",
    "print(l.shape)\n",
    "print(l)"
   ]
  },
  {
   "cell_type": "code",
   "execution_count": 4,
   "metadata": {},
   "outputs": [
    {
     "name": "stdout",
     "output_type": "stream",
     "text": [
      "29\n",
      "[['0.0' 'Negi']\n",
      " ['630.863693677' 'Negi']\n",
      " ['652.896622751' 'Negi']\n",
      " ['810.571403394' 'Negi']\n",
      " ['813.505377979' 'Negi']]\n",
      "(array(['Negi'],\n",
      "      dtype='<U32'), array([5], dtype=int64))\n",
      "['Negi']\n",
      "Negi\n",
      "Negi\n",
      "Negi\n"
     ]
    }
   ],
   "source": [
    "def dist(x1, x2):\n",
    "    return np.sqrt(((x1 - x2)**2).sum())\n",
    "\n",
    "\n",
    "def knn(X_train, x, y_train, k):\n",
    "    vals = []\n",
    "    \n",
    "    for ix in range(X_train.shape[0]):\n",
    "        v = [dist(x, X_train[ix, :]), y_train[ix]]\n",
    "        vals.append(v)\n",
    "    \n",
    "    updated_vals = sorted(vals, key=lambda x: x[0])\n",
    "    pred_arr = np.asarray(updated_vals[:k])            \n",
    "    print(pred_arr)\n",
    "    \n",
    "    pred_arr = np.unique(pred_arr[:, 1], return_counts=True)\n",
    "    print(pred_arr)\n",
    "    \n",
    "    pred = pred_arr[1].argmax()    #index value of max value in count array of pred_arr\n",
    "    \n",
    "    print(pred_arr[0])            #contains unique labels array\n",
    "    \n",
    "    print(pred_arr[0][pred])      #label with max count\n",
    "    return pred_arr[0][pred]\n",
    "\n",
    "sample=int((np.random.random())*f.shape[0])\n",
    "print(sample)\n",
    "q=f[sample]\n",
    "res = knn(f[:10000], q, l[:10000], 5)\n",
    "print(res)\n",
    "print(l[sample])"
   ]
  },
  {
   "cell_type": "code",
   "execution_count": null,
   "metadata": {
    "collapsed": true
   },
   "outputs": [],
   "source": []
  }
 ],
 "metadata": {
  "kernelspec": {
   "display_name": "Python 3",
   "language": "python",
   "name": "python3"
  },
  "language_info": {
   "codemirror_mode": {
    "name": "ipython",
    "version": 3
   },
   "file_extension": ".py",
   "mimetype": "text/x-python",
   "name": "python",
   "nbconvert_exporter": "python",
   "pygments_lexer": "ipython3",
   "version": "3.6.3"
  }
 },
 "nbformat": 4,
 "nbformat_minor": 2
}
