{
 "cells": [
  {
   "cell_type": "code",
   "execution_count": 55,
   "metadata": {
    "collapsed": true
   },
   "outputs": [],
   "source": [
    "import numpy as np\n",
    "import matplotlib.pyplot as plt\n",
    "\n",
    "%matplotlib inline"
   ]
  },
  {
   "cell_type": "code",
   "execution_count": 61,
   "metadata": {},
   "outputs": [
    {
     "data": {
      "text/plain": [
       "[<matplotlib.lines.Line2D at 0x20f4b1e9ac8>]"
      ]
     },
     "execution_count": 61,
     "metadata": {},
     "output_type": "execute_result"
    },
    {
     "data": {
      "image/png": "[encoded data removed]",
      "text/plain": [
       "<matplotlib.figure.Figure at 0x20f4b1e9908>"
      ]
     },
     "metadata": {},
     "output_type": "display_data"
    }
   ],
   "source": [
    "X = np.array([[-1.5,4,-1],[1,3,-1],[4,1,-1],[3,5,-1],[5,6,-1],[6,3,-1]])\n",
    "y = np.array([-1,-1,-1,1,1,1])\n",
    "\n",
    "for i, sample in enumerate(X):\n",
    "    if i<2:\n",
    "        plt.scatter(sample[0],sample[1],marker='+', s=120,c='r')\n",
    "    else:\n",
    "        plt.scatter(sample[0],sample[1],marker='_', s=120, c='b')\n",
    "plt.plot([0,5],[6,2])        "
   ]
  },
  {
   "cell_type": "code",
   "execution_count": 62,
   "metadata": {
    "collapsed": true
   },
   "outputs": [],
   "source": [
    "def svm_gd(X,y):\n",
    "    \n",
    "    w = np.zeros(3)\n",
    "    eta=1\n",
    "    epochs=1000000\n",
    "    errors=[]\n",
    "    \n",
    "    for d in range(1,epochs):\n",
    "        error=0\n",
    "        \n",
    "        for i,x in enumerate(X):\n",
    "            \n",
    "            if(y[i] * np.dot(X[i],w)) < 1:\n",
    "                w = w+eta * ((y[i]*X[i]) + (-2 * (1/d) * w))\n",
    "                error=1\n",
    "            else:\n",
    "                w=w + eta *(-2 * (1/d) *w)\n",
    "               \n",
    "\n",
    "        errors.append(error)        \n",
    "    plt.plot(errors,'|')\n",
    "    plt.ylim(-0.5,1.5)\n",
    "    \n",
    "    return w"
   ]
  },
  {
   "cell_type": "code",
   "execution_count": 63,
   "metadata": {},
   "outputs": [
    {
     "data": {
      "image/png": "[encoded data removed]",
      "text/plain": [
       "<matplotlib.figure.Figure at 0x20f49e19c18>"
      ]
     },
     "metadata": {},
     "output_type": "display_data"
    }
   ],
   "source": [
    "weight = svm_gd(X,y)"
   ]
  },
  {
   "cell_type": "code",
   "execution_count": 64,
   "metadata": {},
   "outputs": [
    {
     "data": {
      "text/plain": [
       "array([  2.91092987,   3.22162823,  17.87374367])"
      ]
     },
     "execution_count": 64,
     "metadata": {},
     "output_type": "execute_result"
    }
   ],
   "source": [
    "weight\n"
   ]
  },
  {
   "cell_type": "code",
   "execution_count": null,
   "metadata": {
    "collapsed": true
   },
   "outputs": [],
   "source": []
  }
 ],
 "metadata": {
  "kernelspec": {
   "display_name": "Python 3",
   "language": "python",
   "name": "python3"
  },
  "language_info": {
   "codemirror_mode": {
    "name": "ipython",
    "version": 3
   },
   "file_extension": ".py",
   "mimetype": "text/x-python",
   "name": "python",
   "nbconvert_exporter": "python",
   "pygments_lexer": "ipython3",
   "version": "3.6.3"
  }
 },
 "nbformat": 4,
 "nbformat_minor": 2
}
